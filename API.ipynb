{
 "cells": [
  {
   "cell_type": "markdown",
   "metadata": {},
   "source": [
    "# REST API\n",
    "\n",
    "API kependekan dari Application Programming Interface merupakan sebuah perangkat lunak yang dapat menerima panggilan atau permintaan dari perangkat lunak lainnya seperti aplikasi dan website yang memberikan pelayanan. Dengan kata lain API merupakan sebuah perangkat lunak yang mengijinkan atau menghubungkan dua aplikasi. Tidak hanya itu API juga digunakan untuk membuat software dan aplikasi oleh para developer. \n",
    "\n",
    "API dapat anda temui dalam kehidupan sehari-hari seperti saat anda memesan hotel, mengirimkan pesan, memesan makanan secara online maupun ketika mengunduh sebuah software. Bagaimana hal tersebut terjadi? Prosesnya seperti ini, ketika anda menggunakan aplikasi maupun melakukan aktifitas tersebut, aplikasi terhubung ke internet dan mengirimkan data ke server. Setelah itu, data tersebut diambil dan diterjemahkan oleh server yang kemudian melakukan aksi yang diperlukan sebagai hasilnya kemudian dikirimkan kembali ke smartphone anda. Setelah menerima data tersebut, aplikasi menerjemahkannya lalu memberikan informasi yang anda inginkan dengan cara yang mudah dibaca. Dengan adanya API semua dapat berjalan dengan lancar dan memudahkan.\n",
    "\n",
    "API membuat pemrograman menjadi lebih mudah dan mungkin. Seperti yang sudah disebutkan di atas, kebutuhan kita sebagai pelanggan dan khususnya bagi developer sangat dimudahkan dengan adanya API. Dengan melihat hal tersebut, peran dari API sendiri sangat berat terlebih untuk membuat tampilan sebuah aplikasi menjadi interaktif, mudah untuk digunakan, dan bersahabat untuk pengguna. Tidak hanya itu, API juga digunakan untuk berkomunikasi antara layanan-layanan. API memiliki peran yang sangat penting dalam teknologi.\n",
    "\n",
    "https://netmonk.id/apa-itu-api/\n",
    "\n",
    "Dalam contoh dunia nyata, API digunakan dalam aplikasi travel pemesanan penerbangan yang dimana aplikasi tersebut menghubungkan pengguna dengan berbagai macam maskapai. Ketika memesan penerbangan pengguna akan menentukan berbagai macam variabel seperti tujuan bandara, tanggal keberangkatan, jumlah penumpang, dan lainnya. Aplikasi travel akan menerima request tersebut dan berinteraksi dengan API dari setiap web database maskapai penerbangan yang ada dan memilih informasi berdasarkan variabel yang dimasukkan pengguna untuk kemudian memberikan respons untuk ditampilkan kembali ke pengguna.\n",
    "\n",
    "Prinsip yang sama juga berlaku ketika terjadi interaksi antara database aplikasi dengan gawai atau komputer, masing-masing sistem tersebut memilik API yang memungkinkan untuk saling bertukar informasi. Dengan kata lain API adalah apa yang membawa informasi antara database aplikasi dan device pengguna untuk menyampaikan data dan menciptakan konektivitas antar sistem.\n",
    "http://developer.erabelajar.com/api-application-programming-interface/\n",
    "\n",
    "### **Free API List**\n",
    "https://github.com/public-apis/public-apis"
   ]
  },
  {
   "cell_type": "markdown",
   "metadata": {},
   "source": [
    "## 1. **Import Library**\n",
    "Import beberapa library yang dibutuhkan. Library **request** untuk meminta data ke website penyedia data. Sedangkan, **pandas** untuk mengolah data."
   ]
  },
  {
   "cell_type": "code",
   "execution_count": 3,
   "metadata": {},
   "outputs": [],
   "source": [
    "import requests\n",
    "import pandas as pd"
   ]
  },
  {
   "cell_type": "markdown",
   "metadata": {},
   "source": [
    "## 2. **Request Data**\n",
    "\n",
    "### ``API Covid-19``"
   ]
  },
  {
   "cell_type": "markdown",
   "metadata": {},
   "source": [
    "Variabel ``url`` adalah halaman web yang menyediakan data (API). Variabel ``data`` adalah hasil _request_ dari url. Kita buka variabel ``data``, jika response 200 berarti kita sukses mengakses data. Jenis-jenis response respons HTTP dapat dibaca di laman berikut: https://developer.mozilla.org/id/docs/Web/HTTP/Status"
   ]
  },
  {
   "cell_type": "code",
   "execution_count": 2,
   "metadata": {},
   "outputs": [
    {
     "data": {
      "text/plain": [
       "<Response [200]>"
      ]
     },
     "execution_count": 2,
     "metadata": {},
     "output_type": "execute_result"
    }
   ],
   "source": [
    "url = 'https://api.covid19api.com/all'\n",
    "data = requests.get(url)\n",
    "data"
   ]
  },
  {
   "cell_type": "markdown",
   "metadata": {},
   "source": [
    "## 3. **Mengakses & Mengolah Data**"
   ]
  },
  {
   "cell_type": "code",
   "execution_count": 3,
   "metadata": {},
   "outputs": [],
   "source": [
    "# mengakses data yang sudah diubah menjadi data json\n",
    "covid_json = data.json()\n",
    "\n",
    "# mengubah data json\n",
    "covid_df = pd.DataFrame(covid_json)"
   ]
  },
  {
   "cell_type": "code",
   "execution_count": 4,
   "metadata": {},
   "outputs": [
    {
     "data": {
      "text/html": [
       "<div>\n",
       "<style scoped>\n",
       "    .dataframe tbody tr th:only-of-type {\n",
       "        vertical-align: middle;\n",
       "    }\n",
       "\n",
       "    .dataframe tbody tr th {\n",
       "        vertical-align: top;\n",
       "    }\n",
       "\n",
       "    .dataframe thead th {\n",
       "        text-align: right;\n",
       "    }\n",
       "</style>\n",
       "<table border=\"1\" class=\"dataframe\">\n",
       "  <thead>\n",
       "    <tr style=\"text-align: right;\">\n",
       "      <th></th>\n",
       "      <th>Country</th>\n",
       "      <th>CountryCode</th>\n",
       "      <th>Province</th>\n",
       "      <th>City</th>\n",
       "      <th>CityCode</th>\n",
       "      <th>Lat</th>\n",
       "      <th>Lon</th>\n",
       "      <th>Confirmed</th>\n",
       "      <th>Deaths</th>\n",
       "      <th>Recovered</th>\n",
       "      <th>Active</th>\n",
       "      <th>Date</th>\n",
       "    </tr>\n",
       "  </thead>\n",
       "  <tbody>\n",
       "    <tr>\n",
       "      <th>0</th>\n",
       "      <td>Afghanistan</td>\n",
       "      <td>AF</td>\n",
       "      <td></td>\n",
       "      <td></td>\n",
       "      <td></td>\n",
       "      <td>33.94</td>\n",
       "      <td>67.71</td>\n",
       "      <td>0</td>\n",
       "      <td>0</td>\n",
       "      <td>0</td>\n",
       "      <td>0</td>\n",
       "      <td>2020-01-22T00:00:00Z</td>\n",
       "    </tr>\n",
       "    <tr>\n",
       "      <th>1</th>\n",
       "      <td>Afghanistan</td>\n",
       "      <td>AF</td>\n",
       "      <td></td>\n",
       "      <td></td>\n",
       "      <td></td>\n",
       "      <td>33.94</td>\n",
       "      <td>67.71</td>\n",
       "      <td>0</td>\n",
       "      <td>0</td>\n",
       "      <td>0</td>\n",
       "      <td>0</td>\n",
       "      <td>2020-01-23T00:00:00Z</td>\n",
       "    </tr>\n",
       "    <tr>\n",
       "      <th>2</th>\n",
       "      <td>Afghanistan</td>\n",
       "      <td>AF</td>\n",
       "      <td></td>\n",
       "      <td></td>\n",
       "      <td></td>\n",
       "      <td>33.94</td>\n",
       "      <td>67.71</td>\n",
       "      <td>0</td>\n",
       "      <td>0</td>\n",
       "      <td>0</td>\n",
       "      <td>0</td>\n",
       "      <td>2020-01-24T00:00:00Z</td>\n",
       "    </tr>\n",
       "  </tbody>\n",
       "</table>\n",
       "</div>"
      ],
      "text/plain": [
       "       Country CountryCode Province City CityCode    Lat    Lon  Confirmed  \\\n",
       "0  Afghanistan          AF                         33.94  67.71          0   \n",
       "1  Afghanistan          AF                         33.94  67.71          0   \n",
       "2  Afghanistan          AF                         33.94  67.71          0   \n",
       "\n",
       "   Deaths  Recovered  Active                  Date  \n",
       "0       0          0       0  2020-01-22T00:00:00Z  \n",
       "1       0          0       0  2020-01-23T00:00:00Z  \n",
       "2       0          0       0  2020-01-24T00:00:00Z  "
      ]
     },
     "execution_count": 4,
     "metadata": {},
     "output_type": "execute_result"
    }
   ],
   "source": [
    "covid_df.head(3)"
   ]
  },
  {
   "cell_type": "code",
   "execution_count": 6,
   "metadata": {},
   "outputs": [
    {
     "data": {
      "text/html": [
       "<div>\n",
       "<style scoped>\n",
       "    .dataframe tbody tr th:only-of-type {\n",
       "        vertical-align: middle;\n",
       "    }\n",
       "\n",
       "    .dataframe tbody tr th {\n",
       "        vertical-align: top;\n",
       "    }\n",
       "\n",
       "    .dataframe thead th {\n",
       "        text-align: right;\n",
       "    }\n",
       "</style>\n",
       "<table border=\"1\" class=\"dataframe\">\n",
       "  <thead>\n",
       "    <tr style=\"text-align: right;\">\n",
       "      <th></th>\n",
       "      <th>Country</th>\n",
       "      <th>CountryCode</th>\n",
       "      <th>Province</th>\n",
       "      <th>City</th>\n",
       "      <th>CityCode</th>\n",
       "      <th>Lat</th>\n",
       "      <th>Lon</th>\n",
       "      <th>Confirmed</th>\n",
       "      <th>Deaths</th>\n",
       "      <th>Recovered</th>\n",
       "      <th>Active</th>\n",
       "      <th>Date</th>\n",
       "    </tr>\n",
       "  </thead>\n",
       "  <tbody>\n",
       "    <tr>\n",
       "      <th>19881</th>\n",
       "      <td>Indonesia</td>\n",
       "      <td>ID</td>\n",
       "      <td></td>\n",
       "      <td></td>\n",
       "      <td></td>\n",
       "      <td>-0.79</td>\n",
       "      <td>113.92</td>\n",
       "      <td>0</td>\n",
       "      <td>0</td>\n",
       "      <td>0</td>\n",
       "      <td>0</td>\n",
       "      <td>2020-01-22T00:00:00Z</td>\n",
       "    </tr>\n",
       "    <tr>\n",
       "      <th>19882</th>\n",
       "      <td>Indonesia</td>\n",
       "      <td>ID</td>\n",
       "      <td></td>\n",
       "      <td></td>\n",
       "      <td></td>\n",
       "      <td>-0.79</td>\n",
       "      <td>113.92</td>\n",
       "      <td>0</td>\n",
       "      <td>0</td>\n",
       "      <td>0</td>\n",
       "      <td>0</td>\n",
       "      <td>2020-01-23T00:00:00Z</td>\n",
       "    </tr>\n",
       "    <tr>\n",
       "      <th>19883</th>\n",
       "      <td>Indonesia</td>\n",
       "      <td>ID</td>\n",
       "      <td></td>\n",
       "      <td></td>\n",
       "      <td></td>\n",
       "      <td>-0.79</td>\n",
       "      <td>113.92</td>\n",
       "      <td>0</td>\n",
       "      <td>0</td>\n",
       "      <td>0</td>\n",
       "      <td>0</td>\n",
       "      <td>2020-01-24T00:00:00Z</td>\n",
       "    </tr>\n",
       "  </tbody>\n",
       "</table>\n",
       "</div>"
      ],
      "text/plain": [
       "         Country CountryCode Province City CityCode    Lat     Lon  Confirmed  \\\n",
       "19881  Indonesia          ID                         -0.79  113.92          0   \n",
       "19882  Indonesia          ID                         -0.79  113.92          0   \n",
       "19883  Indonesia          ID                         -0.79  113.92          0   \n",
       "\n",
       "       Deaths  Recovered  Active                  Date  \n",
       "19881       0          0       0  2020-01-22T00:00:00Z  \n",
       "19882       0          0       0  2020-01-23T00:00:00Z  \n",
       "19883       0          0       0  2020-01-24T00:00:00Z  "
      ]
     },
     "execution_count": 6,
     "metadata": {},
     "output_type": "execute_result"
    }
   ],
   "source": [
    "Indonesia = covid_df[covid_df['Country'] == 'Indonesia']\n",
    "Indonesia.head(3)"
   ]
  },
  {
   "cell_type": "code",
   "execution_count": 13,
   "metadata": {},
   "outputs": [
    {
     "data": {
      "text/html": [
       "<div>\n",
       "<style scoped>\n",
       "    .dataframe tbody tr th:only-of-type {\n",
       "        vertical-align: middle;\n",
       "    }\n",
       "\n",
       "    .dataframe tbody tr th {\n",
       "        vertical-align: top;\n",
       "    }\n",
       "\n",
       "    .dataframe thead th {\n",
       "        text-align: right;\n",
       "    }\n",
       "</style>\n",
       "<table border=\"1\" class=\"dataframe\">\n",
       "  <thead>\n",
       "    <tr style=\"text-align: right;\">\n",
       "      <th></th>\n",
       "      <th>Confirmed</th>\n",
       "      <th>Deaths</th>\n",
       "      <th>Recovered</th>\n",
       "      <th>Active</th>\n",
       "    </tr>\n",
       "    <tr>\n",
       "      <th>Country</th>\n",
       "      <th></th>\n",
       "      <th></th>\n",
       "      <th></th>\n",
       "      <th></th>\n",
       "    </tr>\n",
       "  </thead>\n",
       "  <tbody>\n",
       "    <tr>\n",
       "      <th>United States of America</th>\n",
       "      <td>166099644</td>\n",
       "      <td>9335238</td>\n",
       "      <td>15450004</td>\n",
       "      <td>141335887</td>\n",
       "    </tr>\n",
       "    <tr>\n",
       "      <th>Germany</th>\n",
       "      <td>11810825</td>\n",
       "      <td>448692</td>\n",
       "      <td>8608163</td>\n",
       "      <td>2753970</td>\n",
       "    </tr>\n",
       "    <tr>\n",
       "      <th>China</th>\n",
       "      <td>10134021</td>\n",
       "      <td>454227</td>\n",
       "      <td>7967605</td>\n",
       "      <td>1712243</td>\n",
       "    </tr>\n",
       "    <tr>\n",
       "      <th>Spain</th>\n",
       "      <td>15490703</td>\n",
       "      <td>1708947</td>\n",
       "      <td>7875535</td>\n",
       "      <td>5906221</td>\n",
       "    </tr>\n",
       "    <tr>\n",
       "      <th>Italy</th>\n",
       "      <td>15399969</td>\n",
       "      <td>2072220</td>\n",
       "      <td>6759649</td>\n",
       "      <td>6568100</td>\n",
       "    </tr>\n",
       "  </tbody>\n",
       "</table>\n",
       "</div>"
      ],
      "text/plain": [
       "                          Confirmed   Deaths  Recovered     Active\n",
       "Country                                                           \n",
       "United States of America  166099644  9335238   15450004  141335887\n",
       "Germany                    11810825   448692    8608163    2753970\n",
       "China                      10134021   454227    7967605    1712243\n",
       "Spain                      15490703  1708947    7875535    5906221\n",
       "Italy                      15399969  2072220    6759649    6568100"
      ]
     },
     "execution_count": 13,
     "metadata": {},
     "output_type": "execute_result"
    }
   ],
   "source": [
    "# 5 negara yang nilai recovery tertinggi\n",
    "covid_df.groupby('Country').sum().sort_values('Recovered', ascending=False).head(5)"
   ]
  },
  {
   "cell_type": "markdown",
   "metadata": {},
   "source": [
    "### Menampilkan 10 negara yang death_percent (persentase kematian) tertinggi : Deaths / Confirmed"
   ]
  },
  {
   "cell_type": "code",
   "execution_count": 8,
   "metadata": {},
   "outputs": [
    {
     "data": {
      "text/html": [
       "<div>\n",
       "<style scoped>\n",
       "    .dataframe tbody tr th:only-of-type {\n",
       "        vertical-align: middle;\n",
       "    }\n",
       "\n",
       "    .dataframe tbody tr th {\n",
       "        vertical-align: top;\n",
       "    }\n",
       "\n",
       "    .dataframe thead th {\n",
       "        text-align: right;\n",
       "    }\n",
       "</style>\n",
       "<table border=\"1\" class=\"dataframe\">\n",
       "  <thead>\n",
       "    <tr style=\"text-align: right;\">\n",
       "      <th></th>\n",
       "      <th>Confirmed</th>\n",
       "      <th>Deaths</th>\n",
       "      <th>Recovered</th>\n",
       "      <th>Active</th>\n",
       "      <th>death_percent</th>\n",
       "    </tr>\n",
       "    <tr>\n",
       "      <th>Country</th>\n",
       "      <th></th>\n",
       "      <th></th>\n",
       "      <th></th>\n",
       "      <th></th>\n",
       "      <th></th>\n",
       "    </tr>\n",
       "  </thead>\n",
       "  <tbody>\n",
       "    <tr>\n",
       "      <th>Yemen</th>\n",
       "      <td>8786</td>\n",
       "      <td>1863</td>\n",
       "      <td>352</td>\n",
       "      <td>6571</td>\n",
       "      <td>0.212042</td>\n",
       "    </tr>\n",
       "    <tr>\n",
       "      <th>Belgium</th>\n",
       "      <td>3361168</td>\n",
       "      <td>505460</td>\n",
       "      <td>827283</td>\n",
       "      <td>2028425</td>\n",
       "      <td>0.150382</td>\n",
       "    </tr>\n",
       "    <tr>\n",
       "      <th>United Kingdom</th>\n",
       "      <td>13363775</td>\n",
       "      <td>1922494</td>\n",
       "      <td>62065</td>\n",
       "      <td>11379275</td>\n",
       "      <td>0.143859</td>\n",
       "    </tr>\n",
       "    <tr>\n",
       "      <th>France</th>\n",
       "      <td>11509336</td>\n",
       "      <td>1644315</td>\n",
       "      <td>3562403</td>\n",
       "      <td>6302618</td>\n",
       "      <td>0.142868</td>\n",
       "    </tr>\n",
       "    <tr>\n",
       "      <th>Italy</th>\n",
       "      <td>15399969</td>\n",
       "      <td>2072220</td>\n",
       "      <td>6759649</td>\n",
       "      <td>6568100</td>\n",
       "      <td>0.134560</td>\n",
       "    </tr>\n",
       "    <tr>\n",
       "      <th>Bahamas</th>\n",
       "      <td>5635</td>\n",
       "      <td>686</td>\n",
       "      <td>2072</td>\n",
       "      <td>2877</td>\n",
       "      <td>0.121739</td>\n",
       "    </tr>\n",
       "    <tr>\n",
       "      <th>Netherlands</th>\n",
       "      <td>2781439</td>\n",
       "      <td>334133</td>\n",
       "      <td>14386</td>\n",
       "      <td>2432920</td>\n",
       "      <td>0.120130</td>\n",
       "    </tr>\n",
       "    <tr>\n",
       "      <th>Hungary</th>\n",
       "      <td>198811</td>\n",
       "      <td>23633</td>\n",
       "      <td>69957</td>\n",
       "      <td>105221</td>\n",
       "      <td>0.118872</td>\n",
       "    </tr>\n",
       "    <tr>\n",
       "      <th>Sweden</th>\n",
       "      <td>1762521</td>\n",
       "      <td>197040</td>\n",
       "      <td>160063</td>\n",
       "      <td>1405418</td>\n",
       "      <td>0.111794</td>\n",
       "    </tr>\n",
       "    <tr>\n",
       "      <th>Spain</th>\n",
       "      <td>15490703</td>\n",
       "      <td>1708947</td>\n",
       "      <td>7875535</td>\n",
       "      <td>5906221</td>\n",
       "      <td>0.110321</td>\n",
       "    </tr>\n",
       "  </tbody>\n",
       "</table>\n",
       "</div>"
      ],
      "text/plain": [
       "                Confirmed   Deaths  Recovered    Active  death_percent\n",
       "Country                                                               \n",
       "Yemen                8786     1863        352      6571       0.212042\n",
       "Belgium           3361168   505460     827283   2028425       0.150382\n",
       "United Kingdom   13363775  1922494      62065  11379275       0.143859\n",
       "France           11509336  1644315    3562403   6302618       0.142868\n",
       "Italy            15399969  2072220    6759649   6568100       0.134560\n",
       "Bahamas              5635      686       2072      2877       0.121739\n",
       "Netherlands       2781439   334133      14386   2432920       0.120130\n",
       "Hungary            198811    23633      69957    105221       0.118872\n",
       "Sweden            1762521   197040     160063   1405418       0.111794\n",
       "Spain            15490703  1708947    7875535   5906221       0.110321"
      ]
     },
     "execution_count": 8,
     "metadata": {},
     "output_type": "execute_result"
    }
   ],
   "source": [
    "df_sum = covid_df.groupby('Country').sum()\n",
    "df_sum['death_percent'] = df_sum['Deaths'] / df_sum['Confirmed']\n",
    "df_sum.sort_values('death_percent', ascending=False).head(10)"
   ]
  },
  {
   "cell_type": "markdown",
   "metadata": {},
   "source": [
    "# **Latihan REST API dari AirVisual**"
   ]
  },
  {
   "cell_type": "markdown",
   "metadata": {},
   "source": [
    "## A. Mendapatkan data negara"
   ]
  },
  {
   "cell_type": "code",
   "execution_count": 14,
   "metadata": {},
   "outputs": [
    {
     "data": {
      "text/plain": [
       "<Response [200]>"
      ]
     },
     "execution_count": 14,
     "metadata": {},
     "output_type": "execute_result"
    }
   ],
   "source": [
    "key = '407af181-0e78-4539-b339-7744d2704ce6'\n",
    "url_country = f'http://api.airvisual.com/v2/countries?key={key}'\n",
    "data_country = requests.get(url_country)\n",
    "data_country"
   ]
  },
  {
   "cell_type": "code",
   "execution_count": 7,
   "metadata": {},
   "outputs": [],
   "source": [
    "# data_country.json()"
   ]
  },
  {
   "cell_type": "markdown",
   "metadata": {},
   "source": [
    "## B. Mendapatkan Data Provinsi"
   ]
  },
  {
   "cell_type": "code",
   "execution_count": 16,
   "metadata": {},
   "outputs": [
    {
     "data": {
      "text/plain": [
       "<Response [200]>"
      ]
     },
     "execution_count": 16,
     "metadata": {},
     "output_type": "execute_result"
    }
   ],
   "source": [
    "country_name = 'Indonesia'\n",
    "url_state = f'http://api.airvisual.com/v2/states?country={country_name}&key={key}'\n",
    "data_state = requests.get(url_state)\n",
    "data_state"
   ]
  },
  {
   "cell_type": "code",
   "execution_count": 8,
   "metadata": {},
   "outputs": [
    {
     "data": {
      "text/plain": [
       "{'status': 'success',\n",
       " 'data': [{'state': 'Bali'},\n",
       "  {'state': 'East Java'},\n",
       "  {'state': 'Jakarta'},\n",
       "  {'state': 'Riau'},\n",
       "  {'state': 'West Kalimantan'}]}"
      ]
     },
     "execution_count": 8,
     "metadata": {},
     "output_type": "execute_result"
    }
   ],
   "source": [
    "data_state.json()"
   ]
  },
  {
   "cell_type": "markdown",
   "metadata": {},
   "source": [
    "## C. Mendapatkan Data Kota"
   ]
  },
  {
   "cell_type": "code",
   "execution_count": 17,
   "metadata": {},
   "outputs": [
    {
     "data": {
      "text/plain": [
       "{'status': 'success', 'data': [{'city': 'Malang'}, {'city': 'Surabaya'}]}"
      ]
     },
     "execution_count": 17,
     "metadata": {},
     "output_type": "execute_result"
    }
   ],
   "source": [
    "state_name = 'East Java'\n",
    "url_city = f'http://api.airvisual.com/v2/cities?state={state_name}&country={country_name}&key={key}'\n",
    "data_city = requests.get(url_city)\n",
    "data_city.json()"
   ]
  },
  {
   "cell_type": "code",
   "execution_count": 18,
   "metadata": {},
   "outputs": [
    {
     "data": {
      "text/plain": [
       "{'status': 'success', 'data': [{'city': 'Malang'}, {'city': 'Surabaya'}]}"
      ]
     },
     "execution_count": 18,
     "metadata": {},
     "output_type": "execute_result"
    }
   ],
   "source": [
    "state_name2 = 'Bali'\n",
    "url_city2 = f'http://api.airvisual.com/v2/cities?state={state_name}&country={country_name}&key={key}'\n",
    "data_city2 = requests.get(url_city2)\n",
    "data_city2.json()"
   ]
  },
  {
   "cell_type": "markdown",
   "metadata": {},
   "source": [
    "## D. Mendapatkan Data Spesifik tentang Kota tertentu"
   ]
  },
  {
   "cell_type": "code",
   "execution_count": 35,
   "metadata": {},
   "outputs": [
    {
     "data": {
      "text/plain": [
       "{'status': 'success',\n",
       " 'data': {'city': 'Surabaya',\n",
       "  'state': 'East Java',\n",
       "  'country': 'Indonesia',\n",
       "  'location': {'type': 'Point', 'coordinates': [112.7946058, -7.2800904]},\n",
       "  'current': {'weather': {'ts': '2020-06-14T13:00:00.000Z',\n",
       "    'tp': 28,\n",
       "    'pr': 1011,\n",
       "    'hu': 75,\n",
       "    'ws': 4.26,\n",
       "    'wd': 107,\n",
       "    'ic': '10n'},\n",
       "   'pollution': {'ts': '2020-06-14T12:00:00.000Z',\n",
       "    'aqius': 71,\n",
       "    'mainus': 'p2',\n",
       "    'aqicn': 31,\n",
       "    'maincn': 'p2'}}}}"
      ]
     },
     "execution_count": 35,
     "metadata": {},
     "output_type": "execute_result"
    }
   ],
   "source": [
    "city = 'Surabaya'\n",
    "url_spec_city = f'http://api.airvisual.com/v2/city?city={city}&state={state_name}&country={country_name}&key={key}'\n",
    "data_spec_city = requests.get(url_spec_city)\n",
    "data_spec_city.json()"
   ]
  },
  {
   "cell_type": "code",
   "execution_count": 18,
   "metadata": {},
   "outputs": [
    {
     "data": {
      "text/plain": [
       "{'status': 'success',\n",
       " 'data': {'city': 'Jakarta',\n",
       "  'state': 'Jakarta',\n",
       "  'country': 'Indonesia',\n",
       "  'location': {'type': 'Point', 'coordinates': [106.79324, -6.236704]},\n",
       "  'current': {'weather': {'ts': '2020-04-06T03:00:00.000Z',\n",
       "    'tp': 29,\n",
       "    'pr': 1011,\n",
       "    'hu': 74,\n",
       "    'ws': 4.6,\n",
       "    'wd': 270,\n",
       "    'ic': '02d'},\n",
       "   'pollution': {'ts': '2020-04-06T04:00:00.000Z',\n",
       "    'aqius': 67,\n",
       "    'mainus': 'p2',\n",
       "    'aqicn': 28,\n",
       "    'maincn': 'p2'}}}}"
      ]
     },
     "execution_count": 18,
     "metadata": {},
     "output_type": "execute_result"
    }
   ],
   "source": [
    "city2 = 'Jakarta'\n",
    "state_name2 = 'Jakarta'\n",
    "url_spec_city2 = f'http://api.airvisual.com/v2/city?city={city2}&state={state_name2}&country={country_name}&key={key}'\n",
    "data_spec_city2 = requests.get(url_spec_city2)\n",
    "data_spec_city2.json()"
   ]
  }
 ],
 "metadata": {
  "kernelspec": {
   "display_name": "Python 3.8.1 32-bit",
   "language": "python",
   "name": "python38132bitf9f79e71b62e4503b25567c1d3914456"
  },
  "language_info": {
   "codemirror_mode": {
    "name": "ipython",
    "version": 3
   },
   "file_extension": ".py",
   "mimetype": "text/x-python",
   "name": "python",
   "nbconvert_exporter": "python",
   "pygments_lexer": "ipython3",
   "version": "3.8.1"
  }
 },
 "nbformat": 4,
 "nbformat_minor": 4
}
